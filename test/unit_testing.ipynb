{
 "cells": [
  {
   "cell_type": "code",
   "execution_count": 4,
   "metadata": {},
   "outputs": [
    {
     "ename": "ModuleNotFoundError",
     "evalue": "No module named 'Legoscraper'",
     "output_type": "error",
     "traceback": [
      "\u001b[0;31m---------------------------------------------------------------------------\u001b[0m",
      "\u001b[0;31mModuleNotFoundError\u001b[0m                       Traceback (most recent call last)",
      "\u001b[1;32m/home/lakshmi/Documents/DS/Selenium/Lego/Test_folder/unit_testing.ipynb Cell 1'\u001b[0m in \u001b[0;36m<module>\u001b[0;34m\u001b[0m\n\u001b[1;32m      <a href='vscode-notebook-cell:/home/lakshmi/Documents/DS/Selenium/Lego/Test_folder/unit_testing.ipynb#ch0000000?line=0'>1</a>\u001b[0m \u001b[39mimport\u001b[39;00m \u001b[39munittest\u001b[39;00m\n\u001b[0;32m----> <a href='vscode-notebook-cell:/home/lakshmi/Documents/DS/Selenium/Lego/Test_folder/unit_testing.ipynb#ch0000000?line=1'>2</a>\u001b[0m \u001b[39mimport\u001b[39;00m \u001b[39mLegoscraper\u001b[39;00m\n\u001b[1;32m      <a href='vscode-notebook-cell:/home/lakshmi/Documents/DS/Selenium/Lego/Test_folder/unit_testing.ipynb#ch0000000?line=2'>3</a>\u001b[0m \u001b[39mfrom\u001b[39;00m \u001b[39mselenium\u001b[39;00m\u001b[39m.\u001b[39;00m\u001b[39mwebdriver\u001b[39;00m\u001b[39m.\u001b[39;00m\u001b[39mcommon\u001b[39;00m\u001b[39m.\u001b[39;00m\u001b[39mby\u001b[39;00m \u001b[39mimport\u001b[39;00m By\n\u001b[1;32m      <a href='vscode-notebook-cell:/home/lakshmi/Documents/DS/Selenium/Lego/Test_folder/unit_testing.ipynb#ch0000000?line=4'>5</a>\u001b[0m \u001b[39mclass\u001b[39;00m \u001b[39mTest_Lego_Scraper\u001b[39;00m(unittest\u001b[39m.\u001b[39mTestcase):\n",
      "\u001b[0;31mModuleNotFoundError\u001b[0m: No module named 'Legoscraper'"
     ]
    }
   ],
   "source": [
    "import unittest\n",
    "import Legoscraper\n",
    "from selenium.webdriver.common.by import By\n",
    "\n",
    "class Test_Lego_Scraper(unittest.Testcase):\n",
    "    def setup(self):\n",
    "        self.bot = Legoscraper.Scraper('Minions')\n",
    "    def test_accept_cookies(self):\n",
    "        self.bot.lego_coookie('//*[@id=\"root\"]/div[5]/div/div/div[1]/div[1]/div/button')\n",
    "        self.bot.driver.find_element(By.XPATH,'/html/body/div[6]/div/aside/div')\n",
    "            \n",
    "\n",
    "    def teardown(self):\n",
    "        pass\n",
    "\n",
    "if __name__ == '__main__':\n",
    "    unittest.main()\n",
    "\n"
   ]
  }
 ],
 "metadata": {
  "interpreter": {
   "hash": "309d55093c20dde78e2d73e41541ecb833faa4b88249672f334c68656f50009c"
  },
  "kernelspec": {
   "display_name": "Python 3.9.7 ('selenium')",
   "language": "python",
   "name": "python3"
  },
  "language_info": {
   "codemirror_mode": {
    "name": "ipython",
    "version": 3
   },
   "file_extension": ".py",
   "mimetype": "text/x-python",
   "name": "python",
   "nbconvert_exporter": "python",
   "pygments_lexer": "ipython3",
   "version": "3.9.7"
  },
  "orig_nbformat": 4
 },
 "nbformat": 4,
 "nbformat_minor": 2
}
