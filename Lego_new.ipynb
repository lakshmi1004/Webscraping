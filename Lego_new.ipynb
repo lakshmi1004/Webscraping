{
 "cells": [
  {
   "cell_type": "code",
   "execution_count": null,
   "metadata": {},
   "outputs": [],
   "source": [
    "from Legoscraper import Scraper\n",
    "from logging import exception\n",
    "from selenium.webdriver import Chrome\n",
    "from selenium.webdriver.common.keys import Keys\n",
    "from selenium.webdriver.common.by import By\n",
    "from selenium.webdriver.support.ui import WebDriverWait\n",
    "from selenium.webdriver.support import expected_conditions as EC\n",
    "from selenium.common.exceptions import TimeoutException  #used to debug the program \n",
    "from selenium.common.exceptions import NoSuchElementException #used to debug the program\n",
    "from webdriver_manager.chrome import ChromeDriverManager\n",
    "import time\n",
    "import pandas as pd\n",
    "from pandas import DataFrame\n",
    "import os\n",
    "import requests\n",
    "from bs4 import BeautifulSoup\n",
    "import uuid\n",
    "\n",
    "if __name__ == '__main__' : \n",
    "    bot = Scraper('Minions')\n",
    "    \n"
   ]
  },
  {
   "cell_type": "code",
   "execution_count": null,
   "metadata": {},
   "outputs": [],
   "source": [
    "bot.lego_continue()\n",
    "   \n",
    "    #bot.find_container"
   ]
  },
  {
   "cell_type": "code",
   "execution_count": null,
   "metadata": {},
   "outputs": [],
   "source": [
    "bot.necessary_cookies()\n",
    "   "
   ]
  },
  {
   "cell_type": "code",
   "execution_count": null,
   "metadata": {},
   "outputs": [],
   "source": [
    "bot.shop()\n",
    "bot.sets_by_theme()\n"
   ]
  },
  {
   "cell_type": "code",
   "execution_count": null,
   "metadata": {},
   "outputs": [],
   "source": [
    "bot.select_theme()\n",
    "bot.Availability()\n",
    "bot.check_available_now()"
   ]
  },
  {
   "cell_type": "code",
   "execution_count": null,
   "metadata": {},
   "outputs": [],
   "source": [
    "#containers\n",
    "list_items = bot.driver.find_elements(By.XPATH,'//*[@class =\"ProductGridstyles__Item-lc2zkx-1 bDqwSC\"]')\n",
    "print(list_items)"
   ]
  },
  {
   "cell_type": "code",
   "execution_count": null,
   "metadata": {},
   "outputs": [],
   "source": [
    "\n",
    "lego_links = []\n",
    "for legoitems_link in list_items:\n",
    "    lego_links.append(legoitems_link.find_element(By.TAG_NAME,'a').get_attribute('href'))\n",
    "lego_links"
   ]
  },
  {
   "cell_type": "code",
   "execution_count": null,
   "metadata": {},
   "outputs": [],
   "source": [
    "lego_links[0]"
   ]
  },
  {
   "cell_type": "code",
   "execution_count": null,
   "metadata": {},
   "outputs": [],
   "source": [
    "import uuid    \n",
    "Lego_dict = {'Product_name':[], 'Prices':[], 'URL':[], 'UUID':[]}\n",
    "#Image_dict = {'lego_photos':[]}\n",
    "\n",
    "for link in lego_links[0:]:\n",
    "        bot.driver.get(link)\n",
    "        time.sleep(2)\n",
    "        Lego_dict['URL'].append(link)\n",
    "        #Lego_dict['UUID'].append(uuid)\n",
    "        #print('UUID for link')\n",
    "        try:\n",
    "            time.sleep(2)\n",
    "            Prices = bot.driver.find_element(By.XPATH,'//div[@data-test=\"product-leaf-price\"]')\n",
    "            Lego_dict['Prices'].append(Prices.text)\n",
    "            #Lego_dict['UUID'].append(uuid)\n",
    "            #print('UUID for prices')\n",
    "        except NoSuchElementException:\n",
    "                Lego_dict['Prices'].append('N/A')\n",
    "        try:\n",
    "            time.sleep(2)\n",
    "            Product_name = bot.driver.find_element(By.XPATH,'//h1[@data-test=\"product-overview-name\"]')\n",
    "            Lego_dict['Product_name'].append(Product_name.text)\n",
    "            \n",
    "        except NoSuchElementException:\n",
    "            Lego_dict['Product_name'].append('N/A')\n",
    "            bot.driver.find_element(By.XPATH,'//span[@data-test=\"product-price\"]')\n",
    "        #try:\n",
    "            #Pictures = bot.driver.find_element(By.TAG_NAME,'img').get_attribute('srcset')\n",
    "            #Image_dict['lego_photos'].append(Pictures)\n",
    "       # except NoSuchElementException:\n",
    "           # Image_dict['Prices'].append('N/A')\n",
    "        try:\n",
    "            Lego_dict['UUID'].append(uuid.uuid4())\n",
    "            print('UUID is',uuid.uuid4())\n",
    "        except:\n",
    "            pass\n"
   ]
  },
  {
   "cell_type": "code",
   "execution_count": null,
   "metadata": {},
   "outputs": [],
   "source": [
    "os.mkdir(os.path.join(os.getcwd(),bot.selected_theme))\n",
    "Main_folder = os.getcwd()\n",
    "print(Main_folder)\n",
    "os.chdir(f'{Main_folder}/{bot.selected_theme}')\n",
    "category_dir = f'{Main_folder}/{bot.selected_theme}'\n",
    "\n",
    "print(category_dir)\n",
    "\n",
    "Image_dict = {'Lego_images' :[],'Image_UUID':[]}\n",
    "\n",
    "for link in lego_links[0:]:\n",
    "        bot.driver.get(link)\n",
    "                        \n",
    "        try:\n",
    "                time.sleep(1)\n",
    "                Product_name = bot.driver.find_element(By.XPATH,'//h1[@data-test=\"product-overview-name\"]')\n",
    "                lego_product_name = (Product_name.text).replace(' ','_').replace(',','').replace('-','')\n",
    "                print(lego_product_name)\n",
    "                os.mkdir(f'{category_dir}/{lego_product_name}')\n",
    "                os.chdir(os.path.join(os.getcwd(),lego_product_name))\n",
    "                \n",
    "                ul_class = bot.driver.find_element(By.XPATH,'//*[@id=\"main-content\"]/div/div[1]/div/div[1]/div[1]/div/div/div/div[1]/div/div[1]/ul')\n",
    "                all_li = ul_class.find_elements(By.XPATH,'//li//img')\n",
    "                print(all_li)\n",
    "                for li in all_li:\n",
    "                        \n",
    "                        img_container = bot.driver.find_element(By.XPATH,'//picture[@class = \"Picturestyles__Container-j8hf1d-0 bVuOVw LazyImagestyles__Picture-sc-1gcjd00-1 ddKWmr\"]')\n",
    "                        find_image = img_container.find_element(By.TAG_NAME,'img').get_attribute('src')\n",
    "                        print(find_image)\n",
    "                        Image_dict['Lego_images'].append(find_image)\n",
    "                \n",
    "                        #name = re.sub('\\s+','_',(Product_name.text))\n",
    "                        #os.mkdir(f'{category_dir}/{lego_product_name}')\n",
    "                        #os.chdir(os.path.join(os.getcwd(),lego_product_name))\n",
    "                        with open(lego_product_name +'.jpg','wb') as f:\n",
    "                                pict = requests.get(find_image)\n",
    "                                f.write(pict.content)\n",
    "                           \n",
    "                        \n",
    "        except NoSuchElementException:\n",
    "                        print('No images found')\n",
    "\n",
    "        try:\n",
    "                Image_dict['Image_UUID'].append(uuid.uuid4())\n",
    "                print('UUID is',uuid.uuid4())\n",
    "        except:\n",
    "                pass\n",
    "        os.chdir(category_dir)\n",
    "        #os.path.normpath(os.getcwd() + os.sep + os.pardir)"
   ]
  },
  {
   "cell_type": "code",
   "execution_count": null,
   "metadata": {},
   "outputs": [],
   "source": [
    "import json\n",
    "from uuid import UUID\n",
    "\n",
    "\n",
    "class UUIDEncoder(json.JSONEncoder):\n",
    "    def default(self, obj):\n",
    "        if isinstance(obj, UUID):\n",
    "            # if the obj is uuid, we simply return the value of uuid\n",
    "            return obj.hex\n",
    "        return json.JSONEncoder.default(self, obj)"
   ]
  },
  {
   "cell_type": "code",
   "execution_count": null,
   "metadata": {},
   "outputs": [],
   "source": [
    "import json\n",
    "import os\n",
    "#os.mkdir(os.path.join(os.getcwd)\n",
    "#os.getcwd()\n",
    "path = '/home/lakshmi/Documents/DS/Selenium/Lego/raw_data'\n",
    "os.mkdir(path)\n",
    "os.chdir(path)\n",
    "#L = json.dump(Lego_dict)\n",
    "#I = json.dump(Image_dict)\n",
    "#Lego_dict = MyEncoder.encode(Lego_dict)\n",
    "with open('data.json', 'w') as f:\n",
    "    f.write(json.dumps(Lego_dict,cls = UUIDEncoder))\n",
    "    #f.write('\\\\n')\n",
    "    f.write(json.dumps(Image_dict,cls = UUIDEncoder))\n",
    "    #f.write(I)\n"
   ]
  },
  {
   "cell_type": "code",
   "execution_count": null,
   "metadata": {},
   "outputs": [],
   "source": [
    "import pandas as pd\n",
    "from pandas import DataFrame\n",
    "pd.DataFrame(Lego_dict)\n",
    "#pd.DataFrame(Image_dict)"
   ]
  }
 ],
 "metadata": {
  "interpreter": {
   "hash": "309d55093c20dde78e2d73e41541ecb833faa4b88249672f334c68656f50009c"
  },
  "kernelspec": {
   "display_name": "Python 3.9.7 ('selenium')",
   "language": "python",
   "name": "python3"
  },
  "language_info": {
   "codemirror_mode": {
    "name": "ipython",
    "version": 3
   },
   "file_extension": ".py",
   "mimetype": "text/x-python",
   "name": "python",
   "nbconvert_exporter": "python",
   "pygments_lexer": "ipython3",
   "version": "3.9.7"
  },
  "orig_nbformat": 4
 },
 "nbformat": 4,
 "nbformat_minor": 2
}
