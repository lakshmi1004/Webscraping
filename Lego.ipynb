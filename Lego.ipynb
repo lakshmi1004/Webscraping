{
 "cells": [
  {
   "cell_type": "code",
   "execution_count": 1,
   "metadata": {},
   "outputs": [
    {
     "name": "stderr",
     "output_type": "stream",
     "text": [
      "\n",
      "\n",
      "====== WebDriver manager ======\n",
      "Current google-chrome version is 100.0.4896\n",
      "Get LATEST chromedriver version for 100.0.4896 google-chrome\n",
      "Driver [/home/lakshmi/.wdm/drivers/chromedriver/linux64/100.0.4896.60/chromedriver] found in cache\n"
     ]
    }
   ],
   "source": [
    "from Legoscraper import Scraper\n",
    "from logging import exception\n",
    "from selenium.webdriver import Chrome\n",
    "from selenium.webdriver.common.keys import Keys\n",
    "from selenium.webdriver.common.by import By\n",
    "from selenium.webdriver.support.ui import WebDriverWait\n",
    "from selenium.webdriver.support import expected_conditions as EC\n",
    "from selenium.common.exceptions import TimeoutException  #used to debug the program \n",
    "from selenium.common.exceptions import NoSuchElementException #used to debug the program\n",
    "from webdriver_manager.chrome import ChromeDriverManager\n",
    "import time\n",
    "import pandas as pd\n",
    "from pandas import DataFrame\n",
    "import os\n",
    "import requests\n",
    "from bs4 import BeautifulSoup\n",
    "import uuid\n",
    "\n",
    "if __name__ == '__main__' : \n",
    "    bot = Scraper('Minions')\n",
    "    bot.lego_continue()\n",
    "    bot.necessary_cookies()\n",
    "    bot.shop()\n",
    "    bot.sets_by_theme()\n",
    "    bot.select_theme()\n",
    "    bot.Availability()\n",
    "    bot.check_available_now()\n",
    "    #bot.find_container\n"
   ]
  },
  {
   "cell_type": "code",
   "execution_count": 2,
   "metadata": {},
   "outputs": [
    {
     "data": {
      "text/plain": [
       "['https://www.lego.com/en-gb/product/gru-stuart-and-otto-40420',\n",
       " 'https://www.lego.com/en-gb/product/brick-built-minions-and-their-lair-75551',\n",
       " 'https://www.lego.com/en-gb/product/minions-kung-fu-battle-75550',\n",
       " 'https://www.lego.com/en-gb/product/minion-pilot-in-training-75547',\n",
       " 'https://www.lego.com/en-gb/product/belle-bottom-kevin-and-bob-40421',\n",
       " 'https://www.lego.com/en-gb/product/minions-in-gru-s-lab-75546',\n",
       " 'https://www.lego.com/en-gb/product/minions-kung-fu-training-40511']"
      ]
     },
     "execution_count": 2,
     "metadata": {},
     "output_type": "execute_result"
    }
   ],
   "source": [
    "bot.lego_product_links()"
   ]
  },
  {
   "cell_type": "code",
   "execution_count": 3,
   "metadata": {},
   "outputs": [],
   "source": [
    "bot.lego_product_info()"
   ]
  },
  {
   "cell_type": "code",
   "execution_count": 4,
   "metadata": {},
   "outputs": [
    {
     "name": "stdout",
     "output_type": "stream",
     "text": [
      "UUID is 4a795b0e-d8aa-4f56-b457-687b6d0a8a09\n",
      "UUID is 27bbfc35-7013-4819-b9da-9599517da916\n",
      "UUID is b7d697a9-77ed-4c37-a9c0-512897e2383e\n",
      "UUID is 664a92f2-ad27-46df-a3f6-e8bb747de8b9\n",
      "UUID is b9f675c9-30ea-458f-bc62-6f7155dc9cb7\n",
      "UUID is 5af01612-e4d1-4f63-afb7-6585741803eb\n",
      "UUID is 768054ed-ee6b-4ef8-9092-63bf22011375\n"
     ]
    }
   ],
   "source": [
    "bot.lego_image_downloader()"
   ]
  },
  {
   "cell_type": "code",
   "execution_count": 5,
   "metadata": {},
   "outputs": [
    {
     "name": "stdout",
     "output_type": "stream",
     "text": [
      "                         Product_name                             Prices  \\\n",
      "0                Gru, Stuart and Otto  Price\\n£17.99\\nSale Price\\n£10.79   \n",
      "1  Brick-built Minions and their Lair                      Price\\n£34.99   \n",
      "2              Minions Kung Fu Battle                      Price\\n£29.99   \n",
      "3            Minion Pilot in Training                      Price\\n£17.99   \n",
      "4         Belle Bottom, Kevin and Bob                      Price\\n£17.99   \n",
      "5                Minions in Gru's Lab                      Price\\n£29.99   \n",
      "6            Minions Kung Fu Training                      Price\\n£17.99   \n",
      "\n",
      "                                                link  \\\n",
      "0  https://www.lego.com/en-gb/product/gru-stuart-...   \n",
      "1  https://www.lego.com/en-gb/product/brick-built...   \n",
      "2  https://www.lego.com/en-gb/product/minions-kun...   \n",
      "3  https://www.lego.com/en-gb/product/minion-pilo...   \n",
      "4  https://www.lego.com/en-gb/product/belle-botto...   \n",
      "5  https://www.lego.com/en-gb/product/minions-in-...   \n",
      "6  https://www.lego.com/en-gb/product/minions-kun...   \n",
      "\n",
      "                                   UUID  \n",
      "0  71785e09-bf60-4152-a968-36a1ce9d66c8  \n",
      "1  f44f0642-f399-434a-b752-c170ae28c4f0  \n",
      "2  128faf22-2976-4861-94b0-e9309ff92830  \n",
      "3  4885abf2-d7c4-4432-8997-86a5ae6c3995  \n",
      "4  062955e3-b3d2-4ce4-b92b-5744e59bc8e3  \n",
      "5  41bc3a57-2a79-4fc1-9e04-4092a367f750  \n",
      "6  3b096991-c914-4124-b696-76d58e4d29d3  \n"
     ]
    }
   ],
   "source": [
    "bot.Data_list()"
   ]
  },
  {
   "cell_type": "code",
   "execution_count": 6,
   "metadata": {},
   "outputs": [
    {
     "name": "stdout",
     "output_type": "stream",
     "text": [
      "                                         Lego_images  \\\n",
      "0  https://www.lego.com/cdn/cs/set/assets/blt6ea1...   \n",
      "1  https://www.lego.com/cdn/cs/set/assets/blte7a3...   \n",
      "2  https://www.lego.com/cdn/cs/set/assets/bltce2a...   \n",
      "3  https://www.lego.com/cdn/cs/set/assets/bltd53e...   \n",
      "4  https://www.lego.com/cdn/cs/set/assets/blt284e...   \n",
      "5  https://www.lego.com/cdn/cs/set/assets/blt64e1...   \n",
      "6  https://www.lego.com/cdn/cs/set/assets/blt051a...   \n",
      "\n",
      "                             Image_UUID  \n",
      "0  1e88de27-2b51-4f28-9360-3707295353f2  \n",
      "1  890c4a9c-6f51-465b-a060-9d64c9609c53  \n",
      "2  935d9c15-fa22-439c-bf01-124843fb4203  \n",
      "3  c9a5f173-0e51-4e7b-b1d2-f05c098b9af4  \n",
      "4  5f9fb55a-353f-4565-b8d0-a72837f4fedc  \n",
      "5  c44d73bd-87e1-40d2-ac5d-2cc039f203a4  \n",
      "6  9dd610d8-13d5-46d9-bd31-56d11340938f  \n"
     ]
    }
   ],
   "source": [
    "bot.Image_data()"
   ]
  },
  {
   "cell_type": "code",
   "execution_count": null,
   "metadata": {},
   "outputs": [],
   "source": [
    "bot.data_JSON()\n"
   ]
  }
 ],
 "metadata": {
  "interpreter": {
   "hash": "309d55093c20dde78e2d73e41541ecb833faa4b88249672f334c68656f50009c"
  },
  "kernelspec": {
   "display_name": "Python 3.9.7 ('selenium')",
   "language": "python",
   "name": "python3"
  },
  "language_info": {
   "codemirror_mode": {
    "name": "ipython",
    "version": 3
   },
   "file_extension": ".py",
   "mimetype": "text/x-python",
   "name": "python",
   "nbconvert_exporter": "python",
   "pygments_lexer": "ipython3",
   "version": "3.9.7"
  },
  "orig_nbformat": 4
 },
 "nbformat": 4,
 "nbformat_minor": 2
}
